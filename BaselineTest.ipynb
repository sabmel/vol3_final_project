{
 "cells": [
  {
   "cell_type": "code",
   "execution_count": 11,
   "id": "initial_id",
   "metadata": {
    "collapsed": true,
    "ExecuteTime": {
     "end_time": "2025-03-31T23:55:14.220833Z",
     "start_time": "2025-03-31T23:55:14.216931Z"
    }
   },
   "outputs": [],
   "source": [
    "import numpy as np\n",
    "import pandas as pd\n",
    "import kagglehub\n",
    "from football import baseline\n",
    "from football import data_loader"
   ]
  },
  {
   "cell_type": "code",
   "outputs": [
    {
     "name": "stdout",
     "output_type": "stream",
     "text": [
      "Warning: Looks like you're using an outdated `kagglehub` version, please consider updating (latest version: 0.3.10)\n"
     ]
    }
   ],
   "source": [
    "path = kagglehub.dataset_download(\"maxhorowitz/nflplaybyplay2009to2016\")\n",
    "dl = data_loader.DataLoader(path=path)\n",
    "dl.clean()"
   ],
   "metadata": {
    "collapsed": false,
    "ExecuteTime": {
     "end_time": "2025-03-31T23:55:21.286997Z",
     "start_time": "2025-03-31T23:55:14.432274Z"
    }
   },
   "id": "2052b30b5dd4ef15",
   "execution_count": 12
  },
  {
   "cell_type": "code",
   "outputs": [
    {
     "name": "stdout",
     "output_type": "stream",
     "text": [
      "0.7215\n"
     ]
    }
   ],
   "source": [
    "correct = 0\n",
    "num_seasons = 8\n",
    "num_games = 250\n",
    "\n",
    "for i in range(num_seasons):\n",
    "    for j in range(num_games):\n",
    "        \n",
    "        train, test = dl[i][j].train_test_split()\n",
    "        train_yards = train[\"team0_yards\"].to_numpy().reshape(-1, 1)\n",
    "        test_yards = test[\"team0_yards\"].to_numpy().reshape(-1, 1)\n",
    "        a = baseline.simple_baseline(train_yards,test_yards)\n",
    "        correct+=a\n",
    "\n",
    "print(correct/(num_seasons*num_games))"
   ],
   "metadata": {
    "collapsed": false,
    "ExecuteTime": {
     "end_time": "2025-03-31T23:55:21.900538Z",
     "start_time": "2025-03-31T23:55:21.290265Z"
    }
   },
   "id": "bf4f783b37a18f97",
   "execution_count": 13
  },
  {
   "cell_type": "code",
   "outputs": [],
   "source": [],
   "metadata": {
    "collapsed": false
   },
   "id": "51fef89a88dd8a0b"
  }
 ],
 "metadata": {
  "kernelspec": {
   "display_name": "Python 3",
   "language": "python",
   "name": "python3"
  },
  "language_info": {
   "codemirror_mode": {
    "name": "ipython",
    "version": 2
   },
   "file_extension": ".py",
   "mimetype": "text/x-python",
   "name": "python",
   "nbconvert_exporter": "python",
   "pygments_lexer": "ipython2",
   "version": "2.7.6"
  }
 },
 "nbformat": 4,
 "nbformat_minor": 5
}
