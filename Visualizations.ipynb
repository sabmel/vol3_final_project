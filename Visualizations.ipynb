{
 "cells": [
  {
   "cell_type": "code",
   "execution_count": 1,
   "id": "9f6c99d0",
   "metadata": {
    "ExecuteTime": {
     "end_time": "2025-03-31T17:10:43.650911Z",
     "start_time": "2025-03-31T17:10:43.395164Z"
    }
   },
   "outputs": [],
   "source": [
    "import numpy as np\n",
    "from matplotlib import pyplot as plt\n",
    "import pandas as pd\n",
    "import bar_chart_race as bcr\n",
    "import kagglehub\n",
    "import BasicModel"
   ]
  },
  {
   "cell_type": "code",
   "outputs": [
    {
     "name": "stdout",
     "output_type": "stream",
     "text": [
      "Warning: Looks like you're using an outdated `kagglehub` version, please consider updating (latest version: 0.3.10)\n",
      "Path to dataset files: /Users/nephi/.cache/kagglehub/datasets/maxhorowitz/nflplaybyplay2009to2016/versions/6\n"
     ]
    }
   ],
   "source": [
    "# Download latest version\n",
    "path = kagglehub.dataset_download(\"maxhorowitz/nflplaybyplay2009to2016\")\n",
    "\n",
    "print(\"Path to dataset files:\", path)"
   ],
   "metadata": {
    "collapsed": false,
    "ExecuteTime": {
     "end_time": "2025-03-31T17:10:45.829175Z",
     "start_time": "2025-03-31T17:10:43.651772Z"
    }
   },
   "id": "1446b91af570db0a",
   "execution_count": 2
  },
  {
   "cell_type": "code",
   "execution_count": 70,
   "id": "7528c1c5",
   "metadata": {
    "ExecuteTime": {
     "end_time": "2025-03-31T01:40:22.426600Z",
     "start_time": "2025-03-31T01:40:22.422460Z"
    }
   },
   "outputs": [],
   "source": [
    "def simple_model_animator(results):\n",
    "    '''Assuming the results are a numpy array of net yards gained on a play. \n",
    "    It will animate a race bar graph for the yards gained (by offense or defense)\n",
    "    of a team. \n",
    "    '''\n",
    "    #First split into negative and positive gains, and assign them to each team\n",
    "    t0gains = results * (results>=0).astype(int)\n",
    "    t1gains = -1* results * (results<0).astype(int)\n",
    "    \n",
    "    #Get cumulative yard gains\n",
    "    t0cumulative = [sum(t0gains[:i]) for i in range(len(t0gains))]\n",
    "    t1cumulative = [sum(t1gains[:i]) for i in range(len(t1gains))]\n",
    "    \n",
    "    df = pd.DataFrame()\n",
    "    df[\"t0\"] = t0cumulative\n",
    "    df[\"t1\"] = t1cumulative\n",
    "    \n",
    "    df[\"t0\"] = df[\"t0\"].astype(float)\n",
    "    df[\"t1\"] = df[\"t1\"].astype(float)\n",
    "    \n",
    "    bcr.bar_chart_race(\n",
    "    df=df, \n",
    "    title='Total yards gained', \n",
    "    orientation='v', \n",
    "    n_bars=2, \n",
    "    steps_per_period=30, \n",
    "    period_length=2000\n",
    ")\n",
    "    "
   ]
  },
  {
   "cell_type": "code",
   "execution_count": 25,
   "id": "6e754261",
   "metadata": {
    "ExecuteTime": {
     "end_time": "2025-03-29T21:20:46.826053Z",
     "start_time": "2025-03-29T21:20:42.501449Z"
    }
   },
   "outputs": [
    {
     "name": "stdout",
     "output_type": "stream",
     "text": [
      "Warning: Looks like you're using an outdated `kagglehub` version, please consider updating (latest version: 0.3.10)\n"
     ]
    }
   ],
   "source": [
    "model = BasicModel.BasicModel(7)"
   ]
  },
  {
   "cell_type": "code",
   "outputs": [],
   "source": [
    "model.get_game_yards()\n",
    "model.fit()"
   ],
   "metadata": {
    "collapsed": false,
    "ExecuteTime": {
     "end_time": "2025-03-29T21:20:46.837064Z",
     "start_time": "2025-03-29T21:20:46.829378Z"
    }
   },
   "id": "7d5cc8eaa52e8c4a",
   "execution_count": 26
  },
  {
   "cell_type": "code",
   "outputs": [
    {
     "name": "stdout",
     "output_type": "stream",
     "text": [
      "[-435]\n"
     ]
    },
    {
     "data": {
      "text/plain": "-571"
     },
     "execution_count": 97,
     "metadata": {},
     "output_type": "execute_result"
    }
   ],
   "source": [
    "print(sum(model.train_yards))\n",
    "sum(model.train_yards[model.train_yards<=0]) - sum(model.train_yards[model.train_yards>=0])"
   ],
   "metadata": {
    "collapsed": false,
    "ExecuteTime": {
     "end_time": "2025-03-31T02:23:56.602752Z",
     "start_time": "2025-03-31T02:23:56.598970Z"
    }
   },
   "id": "366031fb29964395",
   "execution_count": 97
  },
  {
   "cell_type": "code",
   "execution_count": 72,
   "id": "e3bf3405",
   "metadata": {
    "ExecuteTime": {
     "end_time": "2025-03-31T01:41:35.063977Z",
     "start_time": "2025-03-31T01:41:17.308027Z"
    }
   },
   "outputs": [
    {
     "name": "stderr",
     "output_type": "stream",
     "text": [
      "/opt/anaconda3/lib/python3.11/site-packages/bar_chart_race/_make_chart.py:294: UserWarning: FixedFormatter should only be used together with FixedLocator\n",
      "  ax.set_xticklabels(self.df_values.columns, ha='right')\n",
      "/opt/anaconda3/lib/python3.11/site-packages/bar_chart_race/_make_chart.py:295: UserWarning: FixedFormatter should only be used together with FixedLocator\n",
      "  ax.set_yticklabels([max_val] * len(ax.get_yticks()))\n",
      "/opt/anaconda3/lib/python3.11/site-packages/bar_chart_race/_make_chart.py:260: UserWarning: FixedFormatter should only be used together with FixedLocator\n",
      "  ax.set_xticklabels(ax.get_xticklabels(), ha='right', rotation=30)\n"
     ]
    }
   ],
   "source": [
    "simple_model_animator(model.train_yards)"
   ]
  },
  {
   "cell_type": "code",
   "execution_count": 3,
   "id": "d8b846d6",
   "metadata": {
    "ExecuteTime": {
     "end_time": "2025-03-31T17:10:54.811790Z",
     "start_time": "2025-03-31T17:10:51.137732Z"
    }
   },
   "outputs": [],
   "source": [
    "df = pd.read_csv(path + \"/NFL Play by Play 2009-2016 (v3).csv\", low_memory=False)"
   ]
  },
  {
   "cell_type": "code",
   "outputs": [
    {
     "data": {
      "text/plain": "90"
     },
     "execution_count": 22,
     "metadata": {},
     "output_type": "execute_result"
    }
   ],
   "source": [
    "game = df[df[\"Date\"]==\"2009-09-10\"]\n",
    "fhg = game[game[\"qtr\"] < 3]\n",
    "len(fhg)"
   ],
   "metadata": {
    "collapsed": false,
    "ExecuteTime": {
     "end_time": "2025-03-31T17:17:49.338357Z",
     "start_time": "2025-03-31T17:17:49.336057Z"
    }
   },
   "id": "5971bf838e53f04b",
   "execution_count": 22
  },
  {
   "cell_type": "code",
   "outputs": [
    {
     "data": {
      "text/plain": "-50"
     },
     "execution_count": 5,
     "metadata": {},
     "output_type": "execute_result"
    }
   ],
   "source": [
    "sum(fhg[fhg[\"posteam\"]==\"PIT\"][\"Yards.Gained\"]) - sum(fhg[fhg[\"posteam\"]==\"TEN\"][\"Yards.Gained\"])"
   ],
   "metadata": {
    "collapsed": false,
    "ExecuteTime": {
     "end_time": "2025-03-31T17:10:54.829974Z",
     "start_time": "2025-03-31T17:10:54.827356Z"
    }
   },
   "id": "3e883fd2fc0b0a5f",
   "execution_count": 5
  },
  {
   "cell_type": "code",
   "outputs": [],
   "source": [
    "from football import game"
   ],
   "metadata": {
    "collapsed": false,
    "ExecuteTime": {
     "end_time": "2025-03-31T17:18:30.579650Z",
     "start_time": "2025-03-31T17:18:30.573803Z"
    }
   },
   "id": "fde5307fa9ddb5b6",
   "execution_count": 27
  },
  {
   "cell_type": "code",
   "outputs": [
    {
     "data": {
      "text/plain": "          Date      GameID  Drive  qtr  down   time  TimeUnder  TimeSecs  \\\n0   2009-09-10  2009091000      1    1   NaN  15:00         15    3600.0   \n1   2009-09-10  2009091000      1    1   1.0  14:53         15    3593.0   \n2   2009-09-10  2009091000      1    1   2.0  14:16         15    3556.0   \n3   2009-09-10  2009091000      1    1   3.0  13:35         14    3515.0   \n4   2009-09-10  2009091000      1    1   4.0  13:27         14    3507.0   \n..         ...         ...    ...  ...   ...    ...        ...       ...   \n85  2009-09-10  2009091000     13    2   1.0  00:21          1    1821.0   \n86  2009-09-10  2009091000     13    2   2.0  00:16          1    1816.0   \n87  2009-09-10  2009091000     13    2   NaN  00:07          1    1807.0   \n88  2009-09-10  2009091000     13    2   3.0  00:07          1    1807.0   \n89  2009-09-10  2009091000     13    2   3.0  00:01          1    1801.0   \n\n    PlayTimeDiff SideofField  ...    yacEPA  Home_WP_pre  Away_WP_pre  \\\n0            0.0         TEN  ...       NaN     0.485675     0.514325   \n1            7.0         PIT  ...  1.146076     0.546433     0.453567   \n2           37.0         PIT  ...       NaN     0.551088     0.448912   \n3           41.0         PIT  ... -5.031425     0.510793     0.489207   \n4            8.0         PIT  ...       NaN     0.461217     0.538783   \n..           ...         ...  ...       ...          ...          ...   \n85           6.0         TEN  ...  0.002546     0.569221     0.430779   \n86           5.0         TEN  ...       NaN     0.560476     0.439524   \n87           9.0         TEN  ...       NaN          NaN          NaN   \n88           0.0         PIT  ...       NaN     0.539795     0.460205   \n89           6.0         PIT  ... -6.235342     0.532696     0.467304   \n\n    Home_WP_post  Away_WP_post  Win_Prob       WPA    airWPA    yacWPA  Season  \n0       0.546433      0.453567  0.485675  0.060758       NaN       NaN    2009  \n1       0.551088      0.448912  0.546433  0.004655 -0.032244  0.036899    2009  \n2       0.510793      0.489207  0.551088 -0.040295       NaN       NaN    2009  \n3       0.461217      0.538783  0.510793 -0.049576  0.106663 -0.156239    2009  \n4       0.558929      0.441071  0.461217  0.097712       NaN       NaN    2009  \n..           ...           ...       ...       ...       ...       ...     ...  \n85      0.560476      0.439524  0.569221 -0.008745 -0.008820  0.000076    2009  \n86      0.539795      0.460205  0.560476 -0.020682       NaN       NaN    2009  \n87           NaN           NaN       NaN  0.000000       NaN       NaN    2009  \n88      0.532696      0.467304  0.539795 -0.007099       NaN       NaN    2009  \n89      0.532696      0.467304  0.532696  0.000000 -0.532696  0.532696    2009  \n\n[90 rows x 102 columns]",
      "text/html": "<div>\n<style scoped>\n    .dataframe tbody tr th:only-of-type {\n        vertical-align: middle;\n    }\n\n    .dataframe tbody tr th {\n        vertical-align: top;\n    }\n\n    .dataframe thead th {\n        text-align: right;\n    }\n</style>\n<table border=\"1\" class=\"dataframe\">\n  <thead>\n    <tr style=\"text-align: right;\">\n      <th></th>\n      <th>Date</th>\n      <th>GameID</th>\n      <th>Drive</th>\n      <th>qtr</th>\n      <th>down</th>\n      <th>time</th>\n      <th>TimeUnder</th>\n      <th>TimeSecs</th>\n      <th>PlayTimeDiff</th>\n      <th>SideofField</th>\n      <th>...</th>\n      <th>yacEPA</th>\n      <th>Home_WP_pre</th>\n      <th>Away_WP_pre</th>\n      <th>Home_WP_post</th>\n      <th>Away_WP_post</th>\n      <th>Win_Prob</th>\n      <th>WPA</th>\n      <th>airWPA</th>\n      <th>yacWPA</th>\n      <th>Season</th>\n    </tr>\n  </thead>\n  <tbody>\n    <tr>\n      <th>0</th>\n      <td>2009-09-10</td>\n      <td>2009091000</td>\n      <td>1</td>\n      <td>1</td>\n      <td>NaN</td>\n      <td>15:00</td>\n      <td>15</td>\n      <td>3600.0</td>\n      <td>0.0</td>\n      <td>TEN</td>\n      <td>...</td>\n      <td>NaN</td>\n      <td>0.485675</td>\n      <td>0.514325</td>\n      <td>0.546433</td>\n      <td>0.453567</td>\n      <td>0.485675</td>\n      <td>0.060758</td>\n      <td>NaN</td>\n      <td>NaN</td>\n      <td>2009</td>\n    </tr>\n    <tr>\n      <th>1</th>\n      <td>2009-09-10</td>\n      <td>2009091000</td>\n      <td>1</td>\n      <td>1</td>\n      <td>1.0</td>\n      <td>14:53</td>\n      <td>15</td>\n      <td>3593.0</td>\n      <td>7.0</td>\n      <td>PIT</td>\n      <td>...</td>\n      <td>1.146076</td>\n      <td>0.546433</td>\n      <td>0.453567</td>\n      <td>0.551088</td>\n      <td>0.448912</td>\n      <td>0.546433</td>\n      <td>0.004655</td>\n      <td>-0.032244</td>\n      <td>0.036899</td>\n      <td>2009</td>\n    </tr>\n    <tr>\n      <th>2</th>\n      <td>2009-09-10</td>\n      <td>2009091000</td>\n      <td>1</td>\n      <td>1</td>\n      <td>2.0</td>\n      <td>14:16</td>\n      <td>15</td>\n      <td>3556.0</td>\n      <td>37.0</td>\n      <td>PIT</td>\n      <td>...</td>\n      <td>NaN</td>\n      <td>0.551088</td>\n      <td>0.448912</td>\n      <td>0.510793</td>\n      <td>0.489207</td>\n      <td>0.551088</td>\n      <td>-0.040295</td>\n      <td>NaN</td>\n      <td>NaN</td>\n      <td>2009</td>\n    </tr>\n    <tr>\n      <th>3</th>\n      <td>2009-09-10</td>\n      <td>2009091000</td>\n      <td>1</td>\n      <td>1</td>\n      <td>3.0</td>\n      <td>13:35</td>\n      <td>14</td>\n      <td>3515.0</td>\n      <td>41.0</td>\n      <td>PIT</td>\n      <td>...</td>\n      <td>-5.031425</td>\n      <td>0.510793</td>\n      <td>0.489207</td>\n      <td>0.461217</td>\n      <td>0.538783</td>\n      <td>0.510793</td>\n      <td>-0.049576</td>\n      <td>0.106663</td>\n      <td>-0.156239</td>\n      <td>2009</td>\n    </tr>\n    <tr>\n      <th>4</th>\n      <td>2009-09-10</td>\n      <td>2009091000</td>\n      <td>1</td>\n      <td>1</td>\n      <td>4.0</td>\n      <td>13:27</td>\n      <td>14</td>\n      <td>3507.0</td>\n      <td>8.0</td>\n      <td>PIT</td>\n      <td>...</td>\n      <td>NaN</td>\n      <td>0.461217</td>\n      <td>0.538783</td>\n      <td>0.558929</td>\n      <td>0.441071</td>\n      <td>0.461217</td>\n      <td>0.097712</td>\n      <td>NaN</td>\n      <td>NaN</td>\n      <td>2009</td>\n    </tr>\n    <tr>\n      <th>...</th>\n      <td>...</td>\n      <td>...</td>\n      <td>...</td>\n      <td>...</td>\n      <td>...</td>\n      <td>...</td>\n      <td>...</td>\n      <td>...</td>\n      <td>...</td>\n      <td>...</td>\n      <td>...</td>\n      <td>...</td>\n      <td>...</td>\n      <td>...</td>\n      <td>...</td>\n      <td>...</td>\n      <td>...</td>\n      <td>...</td>\n      <td>...</td>\n      <td>...</td>\n      <td>...</td>\n    </tr>\n    <tr>\n      <th>85</th>\n      <td>2009-09-10</td>\n      <td>2009091000</td>\n      <td>13</td>\n      <td>2</td>\n      <td>1.0</td>\n      <td>00:21</td>\n      <td>1</td>\n      <td>1821.0</td>\n      <td>6.0</td>\n      <td>TEN</td>\n      <td>...</td>\n      <td>0.002546</td>\n      <td>0.569221</td>\n      <td>0.430779</td>\n      <td>0.560476</td>\n      <td>0.439524</td>\n      <td>0.569221</td>\n      <td>-0.008745</td>\n      <td>-0.008820</td>\n      <td>0.000076</td>\n      <td>2009</td>\n    </tr>\n    <tr>\n      <th>86</th>\n      <td>2009-09-10</td>\n      <td>2009091000</td>\n      <td>13</td>\n      <td>2</td>\n      <td>2.0</td>\n      <td>00:16</td>\n      <td>1</td>\n      <td>1816.0</td>\n      <td>5.0</td>\n      <td>TEN</td>\n      <td>...</td>\n      <td>NaN</td>\n      <td>0.560476</td>\n      <td>0.439524</td>\n      <td>0.539795</td>\n      <td>0.460205</td>\n      <td>0.560476</td>\n      <td>-0.020682</td>\n      <td>NaN</td>\n      <td>NaN</td>\n      <td>2009</td>\n    </tr>\n    <tr>\n      <th>87</th>\n      <td>2009-09-10</td>\n      <td>2009091000</td>\n      <td>13</td>\n      <td>2</td>\n      <td>NaN</td>\n      <td>00:07</td>\n      <td>1</td>\n      <td>1807.0</td>\n      <td>9.0</td>\n      <td>TEN</td>\n      <td>...</td>\n      <td>NaN</td>\n      <td>NaN</td>\n      <td>NaN</td>\n      <td>NaN</td>\n      <td>NaN</td>\n      <td>NaN</td>\n      <td>0.000000</td>\n      <td>NaN</td>\n      <td>NaN</td>\n      <td>2009</td>\n    </tr>\n    <tr>\n      <th>88</th>\n      <td>2009-09-10</td>\n      <td>2009091000</td>\n      <td>13</td>\n      <td>2</td>\n      <td>3.0</td>\n      <td>00:07</td>\n      <td>1</td>\n      <td>1807.0</td>\n      <td>0.0</td>\n      <td>PIT</td>\n      <td>...</td>\n      <td>NaN</td>\n      <td>0.539795</td>\n      <td>0.460205</td>\n      <td>0.532696</td>\n      <td>0.467304</td>\n      <td>0.539795</td>\n      <td>-0.007099</td>\n      <td>NaN</td>\n      <td>NaN</td>\n      <td>2009</td>\n    </tr>\n    <tr>\n      <th>89</th>\n      <td>2009-09-10</td>\n      <td>2009091000</td>\n      <td>13</td>\n      <td>2</td>\n      <td>3.0</td>\n      <td>00:01</td>\n      <td>1</td>\n      <td>1801.0</td>\n      <td>6.0</td>\n      <td>PIT</td>\n      <td>...</td>\n      <td>-6.235342</td>\n      <td>0.532696</td>\n      <td>0.467304</td>\n      <td>0.532696</td>\n      <td>0.467304</td>\n      <td>0.532696</td>\n      <td>0.000000</td>\n      <td>-0.532696</td>\n      <td>0.532696</td>\n      <td>2009</td>\n    </tr>\n  </tbody>\n</table>\n<p>90 rows × 102 columns</p>\n</div>"
     },
     "execution_count": 29,
     "metadata": {},
     "output_type": "execute_result"
    }
   ],
   "source": [
    "game0 = game.Game(fhg)\n",
    "game0.data"
   ],
   "metadata": {
    "collapsed": false,
    "ExecuteTime": {
     "end_time": "2025-03-31T17:18:47.092412Z",
     "start_time": "2025-03-31T17:18:47.089656Z"
    }
   },
   "id": "e18260747dd01883",
   "execution_count": 29
  },
  {
   "cell_type": "code",
   "outputs": [],
   "source": [
    "game0.calculate_time_per_play()\n",
    "game0.drop_unnecessary_rows()\n",
    "game0.encode_teams()\n",
    "t0y = game0.create_team0_yardage()"
   ],
   "metadata": {
    "collapsed": false,
    "ExecuteTime": {
     "end_time": "2025-03-31T17:13:04.026650Z",
     "start_time": "2025-03-31T17:13:04.022382Z"
    }
   },
   "id": "69f9ad31700a900a",
   "execution_count": 18
  },
  {
   "cell_type": "code",
   "outputs": [
    {
     "data": {
      "text/plain": "-91"
     },
     "execution_count": 20,
     "metadata": {},
     "output_type": "execute_result"
    }
   ],
   "source": [
    "sum(t0y[\"team0_yards\"])"
   ],
   "metadata": {
    "collapsed": false,
    "ExecuteTime": {
     "end_time": "2025-03-31T17:13:27.446344Z",
     "start_time": "2025-03-31T17:13:27.443495Z"
    }
   },
   "id": "c1908ae93550460c",
   "execution_count": 20
  },
  {
   "cell_type": "code",
   "outputs": [
    {
     "data": {
      "text/plain": "-91"
     },
     "execution_count": 21,
     "metadata": {},
     "output_type": "execute_result"
    }
   ],
   "source": [
    "sum(game0.data[game0.data[\"posteam\"]==0][\"Yards.Gained\"]) - sum(game0.data[game0.data[\"posteam\"]==1][\"Yards.Gained\"])"
   ],
   "metadata": {
    "collapsed": false,
    "ExecuteTime": {
     "end_time": "2025-03-31T17:17:26.905029Z",
     "start_time": "2025-03-31T17:17:26.889187Z"
    }
   },
   "id": "80a3a1e95f5b878b",
   "execution_count": 21
  },
  {
   "cell_type": "code",
   "outputs": [],
   "source": [],
   "metadata": {
    "collapsed": false
   },
   "id": "7112c7769d589fb2"
  }
 ],
 "metadata": {
  "kernelspec": {
   "display_name": "Python 3 (ipykernel)",
   "language": "python",
   "name": "python3"
  },
  "language_info": {
   "codemirror_mode": {
    "name": "ipython",
    "version": 3
   },
   "file_extension": ".py",
   "mimetype": "text/x-python",
   "name": "python",
   "nbconvert_exporter": "python",
   "pygments_lexer": "ipython3",
   "version": "3.11.8"
  }
 },
 "nbformat": 4,
 "nbformat_minor": 5
}
