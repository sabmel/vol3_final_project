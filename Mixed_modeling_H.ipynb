{
 "cells": [
  {
   "cell_type": "code",
   "execution_count": 39,
   "metadata": {},
   "outputs": [],
   "source": [
    "from hmmlearn.hmm import GMMHMM\n",
    "import numpy as np\n",
    "import pandas as pd\n",
    "from pyhhmm.heterogeneous import HeterogeneousHMM\n",
    "from matplotlib import pyplot as plt\n",
    "import pyhhmm.utils as ut\n",
    "import kagglehub\n",
    "import matplotlib.colors as mcolors"
   ]
  },
  {
   "cell_type": "code",
   "execution_count": 8,
   "metadata": {},
   "outputs": [],
   "source": [
    "def separate_games(df: pd.DataFrame) -> list[pd.DataFrame]:\n",
    "    \"\"\"Separate dataframe into separate games via the game ID. Place into a \n",
    "    list of games. Indices are reindexed so plays are numbered, starting with 0\n",
    "    \"\"\"\n",
    "    games = [df[df['GameID'] == value].reset_index(drop=True) for value in df['GameID'].unique()]\n",
    "        \n",
    "    return games\n",
    "\n",
    "def separate_years(df: pd.DataFrame) -> list[pd.DataFrame]:\n",
    "    \"\"\"Separates the games by which season in which they occured. Outputs a list of seasons.\"\"\"\n",
    "    seasons = [df[df['Season'] == value].reset_index(drop=True) for value in df['Season'].unique()]\n",
    "    \n",
    "    return seasons\n",
    "\n",
    "def calculate_time_per_play(game: pd.DataFrame) -> pd.DataFrame:\n",
    "    \"\"\"Create a new column which is the time each play took.\n",
    "    Kicks will have NANs in the new play_time column, which should make them easy to remove\n",
    "    \"\"\"\n",
    "    game['play_time'] = -game['TimeSecs'].diff()\n",
    "\n",
    "    return game\n",
    "\n",
    "\n",
    "def drop_unnecessary_rows(game: pd.DataFrame) -> pd.DataFrame:\n",
    "    \"\"\"The end of each quarter is its own row. Same with timeouts\n",
    "    and the end of the game. Other values are mostly NANs.\n",
    "    This removes all of those unhelpful rows and reindexes\n",
    "\n",
    "    NOTE: plays must be indexed starting with their first play\n",
    "    TODO: Might be able to just drop rows with missing posteam\n",
    "    \"\"\"\n",
    "    # find indices\n",
    "    game.dropna(subset=['posteam', 'play_time'], inplace=True)\n",
    "    # reset index\n",
    "    game = game.reset_index(drop=True)\n",
    "\n",
    "    return game\n",
    "\n",
    "def encode_teams(game: pd.DataFrame) -> pd.DataFrame:\n",
    "    \"\"\"Change all team names to just 0s or 1s. This won't be retraceable if you are\n",
    "    looking for a game with a specific team playing.\n",
    "    \"\"\"\n",
    "    teams = game['posteam'].unique()\n",
    "    if len(teams) != 2:\n",
    "        print(teams)\n",
    "        raise ValueError(\"Dataset has not been properly cleaned. There are more than 2 values in posteam.\")\n",
    "    \n",
    "    home_team = game[\"HomeTeam\"][0]\n",
    "    team_map = {team:0 if team == home_team else 1 for team in teams} # NOTE: this now marks the home team as team 0\n",
    "    game['posteam'] = game['posteam'].map(team_map)\n",
    "    game['DefensiveTeam'] = game['DefensiveTeam'].map(team_map)\n",
    "\n",
    "    return game\n",
    "\n",
    "def create_team0_yardage(game: pd.DataFrame) -> pd.DataFrame:\n",
    "    \"\"\"Create a new column which is the yards gained in the play by team zero. \n",
    "    It is negative if team 1 is in posession and gains yards.\n",
    "    \"\"\"\n",
    "    game['hometeam_yards'] = np.where(game['posteam'] == 0, game['Yards.Gained'], -game['Yards.Gained'])\n",
    "\n",
    "    return game\n",
    "\n",
    "def no_overtime(game: pd.DataFrame) -> pd.DataFrame:\n",
    "    \"\"\"Discard all data on overtime periods. \n",
    "    Will result in another Dataframe\n",
    "    \"\"\"\n",
    "    game = game[game[\"qtr\"]!=5]\n",
    "    return game\n",
    "    \n",
    "\n",
    "# Of note: Yards.Gained\n",
    "# TODO: column of yards gained for team 0, when team 1 gains yards, value is negative\n",
    "# TODO: keep nans in until you calculate time per play\n",
    "#   then delete those rows like before and replace nans in time per play with\n",
    "#   average time per play in that game"
   ]
  },
  {
   "cell_type": "code",
   "execution_count": 4,
   "metadata": {},
   "outputs": [
    {
     "name": "stdout",
     "output_type": "stream",
     "text": [
      "Path to dataset files: /Users/henryfetzer/.cache/kagglehub/datasets/maxhorowitz/nflplaybyplay2009to2016/versions/6\n"
     ]
    }
   ],
   "source": [
    "# Download latest version\n",
    "path = kagglehub.dataset_download(\"maxhorowitz/nflplaybyplay2009to2016\")\n",
    "\n",
    "print(\"Path to dataset files:\", path)"
   ]
  },
  {
   "cell_type": "code",
   "execution_count": null,
   "metadata": {},
   "outputs": [
    {
     "name": "stderr",
     "output_type": "stream",
     "text": [
      "/var/folders/zl/1w6b2xdd3k1djjqk561_wwr40000gr/T/ipykernel_8743/2210080071.py:1: DtypeWarning: Columns (25,51) have mixed types. Specify dtype option on import or set low_memory=False.\n",
      "  df = pd.read_csv(path + \"/NFL Play by Play 2009-2016 (v3).csv\")\n"
     ]
    }
   ],
   "source": [
    "df = pd.read_csv(path + \"/NFL Play by Play 2009-2016 (v3).csv\")\n",
    "\n",
    "# split seasons\n",
    "seasons = separate_years(df)\n",
    "\n",
    "# split games from season 1\n",
    "season = seasons[1]\n",
    "games = separate_games(season)\n",
    "\n",
    "# clean all games\n",
    "for i, game in enumerate(games):\n",
    "    games[i] = no_overtime(game)\n",
    "    games[i] = calculate_time_per_play(game)\n",
    "    games[i] = drop_unnecessary_rows(games[i])\n",
    "    games[i] = encode_teams(games[i])\n",
    "    games[i] = create_team0_yardage(games[i])\n",
    "    games[i] = no_overtime(games[i]) # new\n",
    "\n",
    "# recombine\n",
    "df = pd.concat(games, ignore_index=True)\n",
    "\n",
    "# choose game 50 for no particular reason\n",
    "game = games[50]"
   ]
  },
  {
   "cell_type": "code",
   "execution_count": 34,
   "metadata": {},
   "outputs": [
    {
     "name": "stdout",
     "output_type": "stream",
     "text": [
      "(74, 2)\n"
     ]
    }
   ],
   "source": [
    "columns_to_keep = ['hometeam_yards', 'play_time', 'posteam', 'Yards.Gained', 'qtr']\n",
    "reduced_game = game.loc[:, columns_to_keep]\n",
    "\n",
    "# Create observations\n",
    "first_half = reduced_game[reduced_game['qtr'].isin([1, 2])]\n",
    "second_half = reduced_game[reduced_game['qtr'].isin([3, 4])]\n",
    "second_posessions = second_half.loc[:, 'posteam']\n",
    "observations = first_half.loc[:, ['Yards.Gained', 'posteam']].to_numpy()\n",
    "print(observations.shape)"
   ]
  },
  {
   "cell_type": "markdown",
   "metadata": {},
   "source": [
    "## Try the Heterogeneous HMM"
   ]
  },
  {
   "cell_type": "code",
   "execution_count": 22,
   "metadata": {},
   "outputs": [
    {
     "name": "stdout",
     "output_type": "stream",
     "text": [
      "Initialisation 1\n"
     ]
    },
    {
     "name": "stderr",
     "output_type": "stream",
     "text": [
      "/usr/local/lib/python3.10/site-packages/sklearn/cluster/_kmeans.py:870: FutureWarning: The default value of `n_init` will change from 10 to 'auto' in 1.4. Set the value of `n_init` explicitly to suppress the warning\n",
      "  warnings.warn(\n"
     ]
    },
    {
     "name": "stdout",
     "output_type": "stream",
     "text": [
      "iter: 0, log_likelihood = -328.42166969501113, delta = nan\n",
      "iter: 1, log_likelihood = -281.04303098659796, delta = 47.37863870841318\n",
      "iter: 2, log_likelihood = -279.908093737883, delta = 1.134937248714948\n",
      "iter: 3, log_likelihood = -279.01329174535437, delta = 0.8948019925286417\n",
      "iter: 4, log_likelihood = -278.41288375728, delta = 0.6004079880743802\n",
      "iter: 5, log_likelihood = -277.63768157022054, delta = 0.775202187059449\n",
      "iter: 6, log_likelihood = -276.5290448068383, delta = 1.1086367633822647\n",
      "Converged -> iter: 6, log_likelihood = -276.5290448068383\n",
      "Initialisation 2\n"
     ]
    },
    {
     "name": "stderr",
     "output_type": "stream",
     "text": [
      "/usr/local/lib/python3.10/site-packages/sklearn/cluster/_kmeans.py:870: FutureWarning: The default value of `n_init` will change from 10 to 'auto' in 1.4. Set the value of `n_init` explicitly to suppress the warning\n",
      "  warnings.warn(\n"
     ]
    },
    {
     "name": "stdout",
     "output_type": "stream",
     "text": [
      "iter: 0, log_likelihood = -339.62840271367986, delta = nan\n",
      "iter: 1, log_likelihood = -282.1684367015681, delta = 57.45996601211175\n",
      "iter: 2, log_likelihood = -275.8916179539282, delta = 6.276818747639936\n",
      "iter: 3, log_likelihood = -270.1080747640168, delta = 5.78354318991137\n",
      "iter: 4, log_likelihood = -267.01748609826086, delta = 3.090588665755945\n",
      "iter: 5, log_likelihood = -264.49737105123506, delta = 2.520115047025797\n",
      "iter: 6, log_likelihood = -262.3620989766439, delta = 2.135272074591171\n",
      "Converged -> iter: 6, log_likelihood = -262.3620989766439\n",
      "Initialisation 3\n"
     ]
    },
    {
     "name": "stderr",
     "output_type": "stream",
     "text": [
      "/usr/local/lib/python3.10/site-packages/sklearn/cluster/_kmeans.py:870: FutureWarning: The default value of `n_init` will change from 10 to 'auto' in 1.4. Set the value of `n_init` explicitly to suppress the warning\n",
      "  warnings.warn(\n"
     ]
    },
    {
     "name": "stdout",
     "output_type": "stream",
     "text": [
      "iter: 0, log_likelihood = -318.75824484963863, delta = nan\n",
      "iter: 1, log_likelihood = -283.85685668383576, delta = 34.90138816580287\n",
      "iter: 2, log_likelihood = -281.8190898546341, delta = 2.0377668292016438\n",
      "iter: 3, log_likelihood = -280.6872947489567, delta = 1.1317951056774405\n",
      "iter: 4, log_likelihood = -279.90590965620885, delta = 0.7813850927478256\n",
      "iter: 5, log_likelihood = -279.0215018078534, delta = 0.8844078483554654\n",
      "iter: 6, log_likelihood = -278.2320872562192, delta = 0.789414551634195\n",
      "Converged -> iter: 6, log_likelihood = -278.2320872562192\n",
      "Initialisation 4\n"
     ]
    },
    {
     "name": "stderr",
     "output_type": "stream",
     "text": [
      "/usr/local/lib/python3.10/site-packages/sklearn/cluster/_kmeans.py:870: FutureWarning: The default value of `n_init` will change from 10 to 'auto' in 1.4. Set the value of `n_init` explicitly to suppress the warning\n",
      "  warnings.warn(\n"
     ]
    },
    {
     "name": "stdout",
     "output_type": "stream",
     "text": [
      "iter: 0, log_likelihood = -345.9900756854706, delta = nan\n",
      "iter: 1, log_likelihood = -283.34031172953115, delta = 62.64976395593942\n",
      "iter: 2, log_likelihood = -280.5744170637371, delta = 2.7658946657940646\n",
      "iter: 3, log_likelihood = -278.19649126569, delta = 2.3779257980471016\n",
      "iter: 4, log_likelihood = -274.47383356969397, delta = 3.72265769599602\n",
      "iter: 5, log_likelihood = -269.69297316769655, delta = 4.7808604019974155\n",
      "iter: 6, log_likelihood = -267.22661089548524, delta = 2.466362272211313\n",
      "Converged -> iter: 6, log_likelihood = -267.22661089548524\n",
      "Initialisation 5\n"
     ]
    },
    {
     "name": "stderr",
     "output_type": "stream",
     "text": [
      "/usr/local/lib/python3.10/site-packages/sklearn/cluster/_kmeans.py:870: FutureWarning: The default value of `n_init` will change from 10 to 'auto' in 1.4. Set the value of `n_init` explicitly to suppress the warning\n",
      "  warnings.warn(\n"
     ]
    },
    {
     "name": "stdout",
     "output_type": "stream",
     "text": [
      "iter: 0, log_likelihood = -328.40561303836137, delta = nan\n",
      "iter: 1, log_likelihood = -282.71967083424397, delta = 45.685942204117396\n",
      "iter: 2, log_likelihood = -280.8543501999545, delta = 1.8653206342894464\n",
      "iter: 3, log_likelihood = -279.472916839099, delta = 1.3814333608555103\n",
      "iter: 4, log_likelihood = -278.5939568284187, delta = 0.8789600106803164\n",
      "iter: 5, log_likelihood = -277.6481204859415, delta = 0.9458363424772074\n",
      "iter: 6, log_likelihood = -276.07387184610116, delta = 1.5742486398403344\n",
      "Converged -> iter: 6, log_likelihood = -276.07387184610116\n",
      "Initialisation 6\n"
     ]
    },
    {
     "name": "stderr",
     "output_type": "stream",
     "text": [
      "/usr/local/lib/python3.10/site-packages/sklearn/cluster/_kmeans.py:870: FutureWarning: The default value of `n_init` will change from 10 to 'auto' in 1.4. Set the value of `n_init` explicitly to suppress the warning\n",
      "  warnings.warn(\n"
     ]
    },
    {
     "name": "stdout",
     "output_type": "stream",
     "text": [
      "iter: 0, log_likelihood = -354.9981558737592, delta = nan\n",
      "iter: 1, log_likelihood = -281.5200292615877, delta = 73.47812661217148\n",
      "iter: 2, log_likelihood = -279.83820412044935, delta = 1.6818251411383471\n",
      "iter: 3, log_likelihood = -278.66654331215034, delta = 1.1716608082990092\n",
      "iter: 4, log_likelihood = -277.49493571337666, delta = 1.1716075987736758\n",
      "iter: 5, log_likelihood = -275.9692835856425, delta = 1.5256521277341903\n",
      "iter: 6, log_likelihood = -273.69083974639005, delta = 2.278443839252418\n",
      "Converged -> iter: 6, log_likelihood = -273.69083974639005\n",
      "Initialisation 7\n"
     ]
    },
    {
     "name": "stderr",
     "output_type": "stream",
     "text": [
      "/usr/local/lib/python3.10/site-packages/sklearn/cluster/_kmeans.py:870: FutureWarning: The default value of `n_init` will change from 10 to 'auto' in 1.4. Set the value of `n_init` explicitly to suppress the warning\n",
      "  warnings.warn(\n"
     ]
    },
    {
     "name": "stdout",
     "output_type": "stream",
     "text": [
      "iter: 0, log_likelihood = -311.35783792510597, delta = nan\n",
      "iter: 1, log_likelihood = -283.99263507267847, delta = 27.3652028524275\n",
      "iter: 2, log_likelihood = -281.92691793078643, delta = 2.065717141892037\n",
      "iter: 3, log_likelihood = -280.64118801214335, delta = 1.285729918643085\n",
      "iter: 4, log_likelihood = -279.47793460081425, delta = 1.1632534113290944\n",
      "iter: 5, log_likelihood = -278.3371728901941, delta = 1.1407617106201542\n",
      "Converged -> iter: 5, log_likelihood = -278.3371728901941\n",
      "Initialisation 8\n"
     ]
    },
    {
     "name": "stderr",
     "output_type": "stream",
     "text": [
      "/usr/local/lib/python3.10/site-packages/sklearn/cluster/_kmeans.py:870: FutureWarning: The default value of `n_init` will change from 10 to 'auto' in 1.4. Set the value of `n_init` explicitly to suppress the warning\n",
      "  warnings.warn(\n"
     ]
    },
    {
     "name": "stdout",
     "output_type": "stream",
     "text": [
      "iter: 0, log_likelihood = -310.9483130698668, delta = nan\n",
      "iter: 1, log_likelihood = -284.84736323012646, delta = 26.100949839740338\n",
      "iter: 2, log_likelihood = -282.7475644171948, delta = 2.099798812931681\n",
      "iter: 3, log_likelihood = -281.5629307110245, delta = 1.1846337061703025\n",
      "iter: 4, log_likelihood = -280.5608309539944, delta = 1.0020997570300665\n",
      "iter: 5, log_likelihood = -279.5717290328137, delta = 0.9891019211806906\n",
      "Converged -> iter: 5, log_likelihood = -279.5717290328137\n",
      "Initialisation 9\n"
     ]
    },
    {
     "name": "stderr",
     "output_type": "stream",
     "text": [
      "/usr/local/lib/python3.10/site-packages/sklearn/cluster/_kmeans.py:870: FutureWarning: The default value of `n_init` will change from 10 to 'auto' in 1.4. Set the value of `n_init` explicitly to suppress the warning\n",
      "  warnings.warn(\n"
     ]
    },
    {
     "name": "stdout",
     "output_type": "stream",
     "text": [
      "iter: 0, log_likelihood = -316.2793443404582, delta = nan\n",
      "iter: 1, log_likelihood = -281.4057257011037, delta = 34.873618639354504\n",
      "iter: 2, log_likelihood = -279.6300184794048, delta = 1.7757072216988945\n",
      "iter: 3, log_likelihood = -278.5241800639553, delta = 1.1058384154494547\n",
      "iter: 4, log_likelihood = -277.2753568827726, delta = 1.248823181182729\n",
      "iter: 5, log_likelihood = -275.79962441826217, delta = 1.475732464510429\n",
      "iter: 6, log_likelihood = -273.96318058100996, delta = 1.8364438372522045\n",
      "Converged -> iter: 6, log_likelihood = -273.96318058100996\n",
      "Initialisation 10\n"
     ]
    },
    {
     "name": "stderr",
     "output_type": "stream",
     "text": [
      "/usr/local/lib/python3.10/site-packages/sklearn/cluster/_kmeans.py:870: FutureWarning: The default value of `n_init` will change from 10 to 'auto' in 1.4. Set the value of `n_init` explicitly to suppress the warning\n",
      "  warnings.warn(\n"
     ]
    },
    {
     "name": "stdout",
     "output_type": "stream",
     "text": [
      "iter: 0, log_likelihood = -339.00365606912857, delta = nan\n",
      "iter: 1, log_likelihood = -282.5110835112018, delta = 56.49257255792679\n",
      "iter: 2, log_likelihood = -279.90464518844584, delta = 2.6064383227559347\n",
      "iter: 3, log_likelihood = -278.3061901857489, delta = 1.5984550026969373\n",
      "iter: 4, log_likelihood = -275.68624624028786, delta = 2.6199439454610456\n",
      "iter: 5, log_likelihood = -271.1419709887199, delta = 4.544275251567967\n",
      "iter: 6, log_likelihood = -267.6458630385242, delta = 3.4961079501956647\n",
      "Converged -> iter: 6, log_likelihood = -267.6458630385242\n"
     ]
    }
   ],
   "source": [
    "# Initialize the model\n",
    "my_hmm = HeterogeneousHMM(\n",
    "    n_states=4, # experiment with this\n",
    "    n_g_emissions=1,   # number of continuous observations\n",
    "    n_d_emissions=1,    # number of discrete observations\n",
    "    n_d_features=[2],    # number of possible values for each discrete variable\n",
    "    covariance_type=\"diagonal\",\n",
    "    verbose=True\n",
    "    )\n",
    "\n",
    "# Train\n",
    "my_hmm, log_likelihood = my_hmm.train([observations], n_init=10, n_iter=10)"
   ]
  },
  {
   "cell_type": "markdown",
   "metadata": {},
   "source": [
    "## Check results of the model on second half"
   ]
  },
  {
   "cell_type": "code",
   "execution_count": 42,
   "metadata": {},
   "outputs": [
    {
     "name": "stdout",
     "output_type": "stream",
     "text": [
      "-262.3620989766439\n"
     ]
    },
    {
     "data": {
      "image/png": "[encoded data removed]",
      "text/plain": [
       "<Figure size 640x480 with 1 Axes>"
      ]
     },
     "metadata": {},
     "output_type": "display_data"
    },
    {
     "data": {
      "image/png": "[encoded data removed]",
      "text/plain": [
       "<Figure size 640x480 with 2 Axes>"
      ]
     },
     "metadata": {},
     "output_type": "display_data"
    },
    {
     "name": "stdout",
     "output_type": "stream",
     "text": [
      "[1 1 1 0 1 1 1 1 1 0 1 1 1 1 0 1 1 1 1 1 0 0 1 1 0 1 0 1 1 1 0 0 1 1 0 1 1\n",
      " 1 1 0 0 1 1 1 1 0 0 1 1 1 1 0 1 0 0 0 1 0 1 1 1 1 1 1 1 1 1 1 0 0 0 1 0 1\n",
      " 1 0 0 0 0 0]\n"
     ]
    }
   ],
   "source": [
    "print(log_likelihood)\n",
    "\n",
    "# Forecast the rest of the game\n",
    "samples = my_hmm.sample(n_samples=80)\n",
    "forecast = samples[0]\n",
    "pred_pos = forecast[:,1].astype(int)\n",
    "\n",
    "\n",
    "\n",
    "\n",
    "\n",
    "# Add a custom colormap\n",
    "custom_cmap = mcolors.ListedColormap(['blue', 'red'])\n",
    "\n",
    "# Plot\n",
    "plt.title(\"Forecasted plays\")\n",
    "scatter = plt.scatter(np.arange(len(forecast)), forecast[:,0], c=pred_pos, cmap=custom_cmap)\n",
    "plt.xlabel(\"Play Number\")\n",
    "plt.ylabel(\"Yards Gained\")\n",
    "plt.show()\n",
    "\n",
    "# Compare with actual\n",
    "plt.subplot(121)\n",
    "plt.title(\"Predicted posessions\")\n",
    "plt.hist(forecast[:,1].astype(int))\n",
    "\n",
    "plt.subplot(122)\n",
    "plt.title(\"Actual posessions\")\n",
    "plt.hist(second_posessions.to_numpy().astype(int))\n",
    "\n",
    "plt.show()\n",
    "\n",
    "print(forecast[:,1].astype(int))"
   ]
  }
 ],
 "metadata": {
  "kernelspec": {
   "display_name": "Python 3",
   "language": "python",
   "name": "python3"
  },
  "language_info": {
   "codemirror_mode": {
    "name": "ipython",
    "version": 3
   },
   "file_extension": ".py",
   "mimetype": "text/x-python",
   "name": "python",
   "nbconvert_exporter": "python",
   "pygments_lexer": "ipython3",
   "version": "3.10.15"
  }
 },
 "nbformat": 4,
 "nbformat_minor": 2
}
