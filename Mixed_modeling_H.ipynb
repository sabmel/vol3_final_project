{
 "cells": [
  {
   "cell_type": "code",
   "execution_count": 3,
   "metadata": {},
   "outputs": [
    {
     "name": "stderr",
     "output_type": "stream",
     "text": [
      "/usr/local/lib/python3.10/site-packages/tqdm/auto.py:21: TqdmWarning: IProgress not found. Please update jupyter and ipywidgets. See https://ipywidgets.readthedocs.io/en/stable/user_install.html\n",
      "  from .autonotebook import tqdm as notebook_tqdm\n"
     ]
    }
   ],
   "source": [
    "from hmmlearn.hmm import GMMHMM\n",
    "import numpy as np\n",
    "import pandas as pd\n",
    "from pyhhmm.heterogeneous import HeterogeneousHMM\n",
    "from matplotlib import pyplot as plt\n",
    "import pyhhmm.utils as ut\n",
    "import kagglehub\n",
    "import matplotlib.colors as mcolors"
   ]
  },
  {
   "cell_type": "code",
   "execution_count": 4,
   "metadata": {},
   "outputs": [],
   "source": [
    "def separate_games(df: pd.DataFrame) -> list[pd.DataFrame]:\n",
    "    \"\"\"Separate dataframe into separate games via the game ID. Place into a \n",
    "    list of games. Indices are reindexed so plays are numbered, starting with 0\n",
    "    \"\"\"\n",
    "    games = [df[df['GameID'] == value].reset_index(drop=True) for value in df['GameID'].unique()]\n",
    "        \n",
    "    return games\n",
    "\n",
    "def separate_years(df: pd.DataFrame) -> list[pd.DataFrame]:\n",
    "    \"\"\"Separates the games by which season in which they occured. Outputs a list of seasons.\"\"\"\n",
    "    seasons = [df[df['Season'] == value].reset_index(drop=True) for value in df['Season'].unique()]\n",
    "    \n",
    "    return seasons\n",
    "\n",
    "def calculate_time_per_play(game: pd.DataFrame) -> pd.DataFrame:\n",
    "    \"\"\"Create a new column which is the time each play took.\n",
    "    Kicks will have NANs in the new play_time column, which should make them easy to remove\n",
    "    \"\"\"\n",
    "    game['play_time'] = -game['TimeSecs'].diff()\n",
    "\n",
    "    return game\n",
    "\n",
    "\n",
    "def drop_unnecessary_rows(game: pd.DataFrame) -> pd.DataFrame:\n",
    "    \"\"\"The end of each quarter is its own row. Same with timeouts\n",
    "    and the end of the game. Other values are mostly NANs.\n",
    "    This removes all of those unhelpful rows and reindexes\n",
    "\n",
    "    NOTE: plays must be indexed starting with their first play\n",
    "    TODO: Might be able to just drop rows with missing posteam\n",
    "    \"\"\"\n",
    "    # find indices\n",
    "    game.dropna(subset=['posteam', 'play_time'], inplace=True)\n",
    "    # reset index\n",
    "    game = game.reset_index(drop=True)\n",
    "\n",
    "    return game\n",
    "\n",
    "def encode_teams(game: pd.DataFrame) -> pd.DataFrame:\n",
    "    \"\"\"Change all team names to just 0s or 1s. This won't be retraceable if you are\n",
    "    looking for a game with a specific team playing.\n",
    "    \"\"\"\n",
    "    teams = game['posteam'].unique()\n",
    "    if len(teams) != 2:\n",
    "        print(teams)\n",
    "        raise ValueError(\"Dataset has not been properly cleaned. There are more than 2 values in posteam.\")\n",
    "    \n",
    "    home_team = game[\"HomeTeam\"][0]\n",
    "    team_map = {team:0 if team == home_team else 1 for team in teams} # NOTE: this now marks the home team as team 0\n",
    "    game['posteam'] = game['posteam'].map(team_map)\n",
    "    game['DefensiveTeam'] = game['DefensiveTeam'].map(team_map)\n",
    "\n",
    "    return game\n",
    "\n",
    "def create_team0_yardage(game: pd.DataFrame) -> pd.DataFrame:\n",
    "    \"\"\"Create a new column which is the yards gained in the play by team zero. \n",
    "    It is negative if team 1 is in posession and gains yards.\n",
    "    \"\"\"\n",
    "    game['hometeam_yards'] = np.where(game['posteam'] == 0, game['Yards.Gained'], -game['Yards.Gained'])\n",
    "\n",
    "    return game\n",
    "\n",
    "def no_overtime(game: pd.DataFrame) -> pd.DataFrame:\n",
    "    \"\"\"Discard all data on overtime periods. \n",
    "    Will result in another Dataframe\n",
    "    \"\"\"\n",
    "    game = game[game[\"qtr\"]!=5]\n",
    "    return game\n",
    "    \n",
    "\n",
    "# Of note: Yards.Gained\n",
    "# TODO: column of yards gained for team 0, when team 1 gains yards, value is negative\n",
    "# TODO: keep nans in until you calculate time per play\n",
    "#   then delete those rows like before and replace nans in time per play with\n",
    "#   average time per play in that game"
   ]
  },
  {
   "cell_type": "code",
   "execution_count": 5,
   "metadata": {},
   "outputs": [
    {
     "name": "stdout",
     "output_type": "stream",
     "text": [
      "Path to dataset files: /Users/henryfetzer/.cache/kagglehub/datasets/maxhorowitz/nflplaybyplay2009to2016/versions/6\n"
     ]
    }
   ],
   "source": [
    "# Download latest version\n",
    "path = kagglehub.dataset_download(\"maxhorowitz/nflplaybyplay2009to2016\")\n",
    "\n",
    "print(\"Path to dataset files:\", path)"
   ]
  },
  {
   "cell_type": "code",
   "execution_count": 6,
   "metadata": {},
   "outputs": [
    {
     "name": "stderr",
     "output_type": "stream",
     "text": [
      "/var/folders/zl/1w6b2xdd3k1djjqk561_wwr40000gr/T/ipykernel_771/1347595952.py:1: DtypeWarning: Columns (25,51) have mixed types. Specify dtype option on import or set low_memory=False.\n",
      "  df = pd.read_csv(path + \"/NFL Play by Play 2009-2016 (v3).csv\")\n"
     ]
    }
   ],
   "source": [
    "df = pd.read_csv(path + \"/NFL Play by Play 2009-2016 (v3).csv\")\n",
    "\n",
    "# split seasons\n",
    "seasons = separate_years(df)\n",
    "\n",
    "# split games from season 1\n",
    "season = seasons[1]\n",
    "games = separate_games(season)\n",
    "\n",
    "# clean all games\n",
    "for i, game in enumerate(games):\n",
    "    games[i] = no_overtime(game)\n",
    "    games[i] = calculate_time_per_play(game)\n",
    "    games[i] = drop_unnecessary_rows(games[i])\n",
    "    games[i] = encode_teams(games[i])\n",
    "    games[i] = create_team0_yardage(games[i])\n",
    "    games[i] = no_overtime(games[i]) # new\n",
    "\n",
    "# recombine\n",
    "df = pd.concat(games, ignore_index=True)\n",
    "\n",
    "# choose game 50 for no particular reason\n",
    "game = games[50]"
   ]
  },
  {
   "cell_type": "code",
   "execution_count": 7,
   "metadata": {},
   "outputs": [
    {
     "name": "stdout",
     "output_type": "stream",
     "text": [
      "(74, 2)\n"
     ]
    }
   ],
   "source": [
    "columns_to_keep = ['hometeam_yards', 'play_time', 'posteam', 'Yards.Gained', 'qtr']\n",
    "reduced_game = game.loc[:, columns_to_keep]\n",
    "\n",
    "# Create observations\n",
    "first_half = reduced_game[reduced_game['qtr'].isin([1, 2])]\n",
    "second_half = reduced_game[reduced_game['qtr'].isin([3, 4])]\n",
    "second_posessions = second_half.loc[:, 'posteam']\n",
    "observations = first_half.loc[:, ['Yards.Gained', 'posteam']].to_numpy()\n",
    "print(observations.shape)"
   ]
  },
  {
   "cell_type": "markdown",
   "metadata": {},
   "source": [
    "## Try the Heterogeneous HMM"
   ]
  },
  {
   "cell_type": "code",
   "execution_count": 8,
   "metadata": {},
   "outputs": [
    {
     "name": "stdout",
     "output_type": "stream",
     "text": [
      "Initialisation 1\n"
     ]
    },
    {
     "name": "stderr",
     "output_type": "stream",
     "text": [
      "/usr/local/lib/python3.10/site-packages/sklearn/cluster/_kmeans.py:870: FutureWarning: The default value of `n_init` will change from 10 to 'auto' in 1.4. Set the value of `n_init` explicitly to suppress the warning\n",
      "  warnings.warn(\n"
     ]
    },
    {
     "name": "stdout",
     "output_type": "stream",
     "text": [
      "iter: 0, log_likelihood = -337.1690007705226, delta = nan\n",
      "iter: 1, log_likelihood = -282.3602884930473, delta = 54.80871227747531\n",
      "iter: 2, log_likelihood = -279.89701897526476, delta = 2.4632695177825212\n",
      "iter: 3, log_likelihood = -278.2444200712039, delta = 1.6525989040608806\n",
      "iter: 4, log_likelihood = -276.561647908121, delta = 1.6827721630828592\n",
      "iter: 5, log_likelihood = -274.47479058933106, delta = 2.086857318789953\n",
      "iter: 6, log_likelihood = -271.3941459243525, delta = 3.0806446649785926\n",
      "Converged -> iter: 6, log_likelihood = -271.3941459243525\n",
      "Initialisation 2\n"
     ]
    },
    {
     "name": "stderr",
     "output_type": "stream",
     "text": [
      "/usr/local/lib/python3.10/site-packages/sklearn/cluster/_kmeans.py:870: FutureWarning: The default value of `n_init` will change from 10 to 'auto' in 1.4. Set the value of `n_init` explicitly to suppress the warning\n",
      "  warnings.warn(\n"
     ]
    },
    {
     "name": "stdout",
     "output_type": "stream",
     "text": [
      "iter: 0, log_likelihood = -355.71425681670064, delta = nan\n",
      "iter: 1, log_likelihood = -283.4189172347427, delta = 72.29533958195793\n",
      "iter: 2, log_likelihood = -280.9376685253473, delta = 2.481248709395402\n",
      "iter: 3, log_likelihood = -279.5087221145883, delta = 1.4289464107590106\n",
      "iter: 4, log_likelihood = -277.28257533129295, delta = 2.2261467832953485\n",
      "iter: 5, log_likelihood = -273.2295808840295, delta = 4.0529944472634725\n",
      "iter: 6, log_likelihood = -269.64672105666364, delta = 3.582859827365837\n",
      "Converged -> iter: 6, log_likelihood = -269.64672105666364\n",
      "Initialisation 3\n"
     ]
    },
    {
     "name": "stderr",
     "output_type": "stream",
     "text": [
      "/usr/local/lib/python3.10/site-packages/sklearn/cluster/_kmeans.py:870: FutureWarning: The default value of `n_init` will change from 10 to 'auto' in 1.4. Set the value of `n_init` explicitly to suppress the warning\n",
      "  warnings.warn(\n"
     ]
    },
    {
     "name": "stdout",
     "output_type": "stream",
     "text": [
      "iter: 0, log_likelihood = -339.69049753393466, delta = nan\n",
      "iter: 1, log_likelihood = -282.8270339702604, delta = 56.86346356367426\n",
      "iter: 2, log_likelihood = -280.9061393782077, delta = 1.9208945920527185\n",
      "iter: 3, log_likelihood = -279.6950236618208, delta = 1.211115716386871\n",
      "iter: 4, log_likelihood = -278.5401234188851, delta = 1.154900242935696\n",
      "iter: 5, log_likelihood = -277.1006271633482, delta = 1.4394962555369375\n",
      "iter: 6, log_likelihood = -274.52524251745643, delta = 2.575384645891745\n",
      "Converged -> iter: 6, log_likelihood = -274.52524251745643\n",
      "Initialisation 4\n"
     ]
    },
    {
     "name": "stderr",
     "output_type": "stream",
     "text": [
      "/usr/local/lib/python3.10/site-packages/sklearn/cluster/_kmeans.py:870: FutureWarning: The default value of `n_init` will change from 10 to 'auto' in 1.4. Set the value of `n_init` explicitly to suppress the warning\n",
      "  warnings.warn(\n"
     ]
    },
    {
     "name": "stdout",
     "output_type": "stream",
     "text": [
      "iter: 0, log_likelihood = -324.08934769157855, delta = nan\n",
      "iter: 1, log_likelihood = -282.4554270822738, delta = 41.63392060930477\n",
      "iter: 2, log_likelihood = -280.3055294615213, delta = 2.1498976207524834\n",
      "iter: 3, log_likelihood = -278.9349556884419, delta = 1.3705737730793999\n",
      "iter: 4, log_likelihood = -277.3965597193683, delta = 1.5383959690735765\n",
      "iter: 5, log_likelihood = -274.797146514225, delta = 2.599413205143321\n",
      "iter: 6, log_likelihood = -270.4932727945898, delta = 4.303873719635192\n",
      "Converged -> iter: 6, log_likelihood = -270.4932727945898\n",
      "Initialisation 5\n"
     ]
    },
    {
     "name": "stderr",
     "output_type": "stream",
     "text": [
      "/usr/local/lib/python3.10/site-packages/sklearn/cluster/_kmeans.py:870: FutureWarning: The default value of `n_init` will change from 10 to 'auto' in 1.4. Set the value of `n_init` explicitly to suppress the warning\n",
      "  warnings.warn(\n"
     ]
    },
    {
     "name": "stdout",
     "output_type": "stream",
     "text": [
      "iter: 0, log_likelihood = -344.95610457776314, delta = nan\n",
      "iter: 1, log_likelihood = -279.6431672364482, delta = 65.31293734131492\n",
      "iter: 2, log_likelihood = -277.31041352296796, delta = 2.3327537134802583\n",
      "iter: 3, log_likelihood = -273.61019248362646, delta = 3.7002210393415\n",
      "iter: 4, log_likelihood = -269.20919658299005, delta = 4.400995900636417\n",
      "iter: 5, log_likelihood = -267.15068333387893, delta = 2.0585132491111153\n",
      "iter: 6, log_likelihood = -266.1532616326151, delta = 0.9974217012638178\n",
      "Converged -> iter: 6, log_likelihood = -266.1532616326151\n",
      "Initialisation 6\n"
     ]
    },
    {
     "name": "stderr",
     "output_type": "stream",
     "text": [
      "/usr/local/lib/python3.10/site-packages/sklearn/cluster/_kmeans.py:870: FutureWarning: The default value of `n_init` will change from 10 to 'auto' in 1.4. Set the value of `n_init` explicitly to suppress the warning\n",
      "  warnings.warn(\n"
     ]
    },
    {
     "name": "stdout",
     "output_type": "stream",
     "text": [
      "iter: 0, log_likelihood = -319.1456447525367, delta = nan\n",
      "iter: 1, log_likelihood = -281.22179645998733, delta = 37.923848292549394\n",
      "iter: 2, log_likelihood = -279.1666886172356, delta = 2.055107842751738\n",
      "iter: 3, log_likelihood = -278.0252774867296, delta = 1.1414111305060146\n",
      "iter: 4, log_likelihood = -277.02113617865416, delta = 1.0041413080754182\n",
      "iter: 5, log_likelihood = -275.63485598428576, delta = 1.3862801943683962\n",
      "iter: 6, log_likelihood = -272.8971132148449, delta = 2.7377427694408425\n",
      "Converged -> iter: 6, log_likelihood = -272.8971132148449\n",
      "Initialisation 7\n"
     ]
    },
    {
     "name": "stderr",
     "output_type": "stream",
     "text": [
      "/usr/local/lib/python3.10/site-packages/sklearn/cluster/_kmeans.py:870: FutureWarning: The default value of `n_init` will change from 10 to 'auto' in 1.4. Set the value of `n_init` explicitly to suppress the warning\n",
      "  warnings.warn(\n"
     ]
    },
    {
     "name": "stdout",
     "output_type": "stream",
     "text": [
      "iter: 0, log_likelihood = -345.25929260122126, delta = nan\n",
      "iter: 1, log_likelihood = -281.5879573705695, delta = 63.67133523065178\n",
      "iter: 2, log_likelihood = -279.69177106015906, delta = 1.8961863104104282\n",
      "iter: 3, log_likelihood = -278.158182930558, delta = 1.5335881296010712\n",
      "iter: 4, log_likelihood = -274.922012429215, delta = 3.236170501342997\n",
      "iter: 5, log_likelihood = -270.3449456429956, delta = 4.5770667862194045\n",
      "iter: 6, log_likelihood = -267.94081514588277, delta = 2.404130497112817\n",
      "Converged -> iter: 6, log_likelihood = -267.94081514588277\n",
      "Initialisation 8\n"
     ]
    },
    {
     "name": "stderr",
     "output_type": "stream",
     "text": [
      "/usr/local/lib/python3.10/site-packages/sklearn/cluster/_kmeans.py:870: FutureWarning: The default value of `n_init` will change from 10 to 'auto' in 1.4. Set the value of `n_init` explicitly to suppress the warning\n",
      "  warnings.warn(\n"
     ]
    },
    {
     "name": "stdout",
     "output_type": "stream",
     "text": [
      "iter: 0, log_likelihood = -348.5166477577599, delta = nan\n",
      "iter: 1, log_likelihood = -282.9491706646327, delta = 65.56747709312725\n",
      "iter: 2, log_likelihood = -279.5688976668571, delta = 3.3802729977755916\n",
      "iter: 3, log_likelihood = -277.2644651064092, delta = 2.3044325604478786\n",
      "iter: 4, log_likelihood = -273.81927191950604, delta = 3.4451931869031682\n",
      "iter: 5, log_likelihood = -269.2253941152322, delta = 4.593877804273859\n",
      "iter: 6, log_likelihood = -264.79707961875783, delta = 4.428314496474343\n",
      "Converged -> iter: 6, log_likelihood = -264.79707961875783\n",
      "Initialisation 9\n"
     ]
    },
    {
     "name": "stderr",
     "output_type": "stream",
     "text": [
      "/usr/local/lib/python3.10/site-packages/sklearn/cluster/_kmeans.py:870: FutureWarning: The default value of `n_init` will change from 10 to 'auto' in 1.4. Set the value of `n_init` explicitly to suppress the warning\n",
      "  warnings.warn(\n"
     ]
    },
    {
     "name": "stdout",
     "output_type": "stream",
     "text": [
      "iter: 0, log_likelihood = -347.93467902590197, delta = nan\n",
      "iter: 1, log_likelihood = -280.9442969376934, delta = 66.99038208820855\n",
      "iter: 2, log_likelihood = -278.90385836463975, delta = 2.0404385730536774\n",
      "iter: 3, log_likelihood = -276.9342032719868, delta = 1.9696550926529426\n",
      "iter: 4, log_likelihood = -272.88285359087837, delta = 4.051349681108434\n",
      "iter: 5, log_likelihood = -268.1143760550027, delta = 4.768477535875661\n",
      "iter: 6, log_likelihood = -265.85759450024204, delta = 2.256781554760664\n",
      "Converged -> iter: 6, log_likelihood = -265.85759450024204\n",
      "Initialisation 10\n"
     ]
    },
    {
     "name": "stderr",
     "output_type": "stream",
     "text": [
      "/usr/local/lib/python3.10/site-packages/sklearn/cluster/_kmeans.py:870: FutureWarning: The default value of `n_init` will change from 10 to 'auto' in 1.4. Set the value of `n_init` explicitly to suppress the warning\n",
      "  warnings.warn(\n"
     ]
    },
    {
     "name": "stdout",
     "output_type": "stream",
     "text": [
      "iter: 0, log_likelihood = -337.57843476410216, delta = nan\n",
      "iter: 1, log_likelihood = -285.01379779967715, delta = 52.564636964425006\n",
      "iter: 2, log_likelihood = -279.214576437105, delta = 5.799221362572155\n",
      "iter: 3, log_likelihood = -273.009506484373, delta = 6.2050699527320035\n",
      "iter: 4, log_likelihood = -269.7777602513214, delta = 3.231746233051581\n",
      "iter: 5, log_likelihood = -267.9477298841997, delta = 1.830030367121708\n",
      "iter: 6, log_likelihood = -265.8577800532826, delta = 2.089949830917078\n",
      "Converged -> iter: 6, log_likelihood = -265.8577800532826\n"
     ]
    }
   ],
   "source": [
    "# Initialize the model\n",
    "my_hmm = HeterogeneousHMM(\n",
    "    n_states=4, # experiment with this\n",
    "    n_g_emissions=1,   # number of continuous observations\n",
    "    n_d_emissions=1,    # number of discrete observations\n",
    "    n_d_features=[2],    # number of possible values for each discrete variable\n",
    "    covariance_type=\"diagonal\",\n",
    "    verbose=True\n",
    "    )\n",
    "\n",
    "# Train\n",
    "my_hmm, log_likelihood = my_hmm.train([observations], n_init=10, n_iter=10)"
   ]
  },
  {
   "cell_type": "markdown",
   "metadata": {},
   "source": [
    "## Check results of the model on second half"
   ]
  },
  {
   "cell_type": "code",
   "execution_count": 9,
   "metadata": {},
   "outputs": [
    {
     "name": "stdout",
     "output_type": "stream",
     "text": [
      "-264.79707961875783\n"
     ]
    },
    {
     "data": {
      "image/png": "[encoded data removed]",
      "text/plain": [
       "<Figure size 640x480 with 1 Axes>"
      ]
     },
     "metadata": {},
     "output_type": "display_data"
    },
    {
     "data": {
      "image/png": "[encoded data removed]",
      "text/plain": [
       "<Figure size 640x480 with 2 Axes>"
      ]
     },
     "metadata": {},
     "output_type": "display_data"
    },
    {
     "name": "stdout",
     "output_type": "stream",
     "text": [
      "[1 0 1 1 1 1 0 1 1 1 1 0 1 1 0 0 0 1 1 1 1 1 0 0 1 1 1 1 1 0 1 1 1 1 1 1 1\n",
      " 0 0 1 1 0 1 1 0 1 0 0 1 0 1 1 1 0 0 0 0 0 1 1 1 1 1 1 0 1 0 1 1 0 0 1 1 0\n",
      " 1 0 1 1 1 0]\n"
     ]
    }
   ],
   "source": [
    "print(log_likelihood)\n",
    "\n",
    "# Forecast the rest of the game\n",
    "samples = my_hmm.sample(n_samples=80)\n",
    "forecast = samples[0]\n",
    "pred_pos = forecast[:,1].astype(int)\n",
    "\n",
    "\n",
    "\n",
    "\n",
    "\n",
    "# Add a custom colormap\n",
    "custom_cmap = mcolors.ListedColormap(['blue', 'red'])\n",
    "\n",
    "# Plot\n",
    "plt.title(\"Forecasted plays\")\n",
    "scatter = plt.scatter(np.arange(len(forecast)), forecast[:,0], c=pred_pos, cmap=custom_cmap)\n",
    "plt.xlabel(\"Play Number\")\n",
    "plt.ylabel(\"Yards Gained\")\n",
    "plt.show()\n",
    "\n",
    "# Compare with actual\n",
    "plt.subplot(121)\n",
    "plt.title(\"Predicted posessions\")\n",
    "plt.hist(forecast[:,1].astype(int))\n",
    "\n",
    "plt.subplot(122)\n",
    "plt.title(\"Actual posessions\")\n",
    "plt.hist(second_posessions.to_numpy().astype(int))\n",
    "\n",
    "plt.show()\n",
    "\n",
    "print(forecast[:,1].astype(int))"
   ]
  }
 ],
 "metadata": {
  "kernelspec": {
   "display_name": "Python 3",
   "language": "python",
   "name": "python3"
  },
  "language_info": {
   "codemirror_mode": {
    "name": "ipython",
    "version": 3
   },
   "file_extension": ".py",
   "mimetype": "text/x-python",
   "name": "python",
   "nbconvert_exporter": "python",
   "pygments_lexer": "ipython3",
   "version": "3.10.15"
  }
 },
 "nbformat": 4,
 "nbformat_minor": 2
}
