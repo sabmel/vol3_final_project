{
 "cells": [
  {
   "cell_type": "markdown",
   "metadata": {},
   "source": [
    "# Examples of use for the football module"
   ]
  },
  {
   "cell_type": "markdown",
   "metadata": {},
   "source": [
    "### Read in the super long data set\n",
    "import kagglehub\n",
    "\n",
    "### Download latest version\n",
    "path = kagglehub.dataset_download(\"maxhorowitz/nflplaybyplay2009to2016\")\n",
    "\n",
    "print(\"Path to dataset files:\", path)"
   ]
  },
  {
   "cell_type": "code",
   "execution_count": 1,
   "metadata": {},
   "outputs": [],
   "source": [
    "from football.data_loader import DataLoader\n",
    "\n",
    "path = \"/Users/henryfetzer/.cache/kagglehub/datasets/maxhorowitz/nflplaybyplay2009to2016/versions/6\""
   ]
  },
  {
   "cell_type": "code",
   "execution_count": 2,
   "metadata": {},
   "outputs": [],
   "source": [
    "dl = DataLoader(path)\n"
   ]
  },
  {
   "cell_type": "code",
   "execution_count": 3,
   "metadata": {},
   "outputs": [
    {
     "name": "stdout",
     "output_type": "stream",
     "text": [
      "[2009, 2010, 2011, 2012, 2013, 2014, 2015, 2016]\n"
     ]
    }
   ],
   "source": [
    "# index a dataloader to get a season\n",
    "print(dl)\n",
    "season = dl[-2]"
   ]
  },
  {
   "cell_type": "code",
   "execution_count": 4,
   "metadata": {},
   "outputs": [],
   "source": [
    "# index season to get a game\n",
    "game = season[6]\n",
    "game.clean()"
   ]
  },
  {
   "cell_type": "code",
   "execution_count": 5,
   "metadata": {},
   "outputs": [],
   "source": [
    "# get cleaned game dataframe\n",
    "train, test = game.train_test_split(home_team=True)\n",
    "\n"
   ]
  },
  {
   "cell_type": "code",
   "execution_count": 6,
   "metadata": {},
   "outputs": [
    {
     "name": "stdout",
     "output_type": "stream",
     "text": [
      "     play_time  time_remaining  posteam  team0_yards  Yards.Gained\n",
      "0     9.036844     1800.000000        1         -1.0           1.0\n",
      "1    42.928486     1790.963156        1        -10.0          10.0\n",
      "2    20.961734     1748.034670        1         -1.0           1.0\n",
      "3    31.076743     1727.072936        1        -22.0          22.0\n",
      "4    17.741732     1695.996192        1         -3.0           3.0\n",
      "..         ...             ...      ...          ...           ...\n",
      "116  36.880370      106.330291        0         -0.0           0.0\n",
      "117   8.616876       69.449921        0          3.0           3.0\n",
      "118  44.380980       60.833045        0          3.0           3.0\n",
      "119  12.370741       16.452066        0          2.0           2.0\n",
      "120  29.133857        4.081325        0         -3.0          -3.0\n",
      "\n",
      "[121 rows x 5 columns]\n"
     ]
    }
   ],
   "source": [
    "# predict 2nd half of game\n",
    "possessions = game.predict_2nd_half(n_hidden_states = 5)\n",
    "print(possessions)"
   ]
  }
 ],
 "metadata": {
  "kernelspec": {
   "display_name": "Python 3",
   "language": "python",
   "name": "python3"
  },
  "language_info": {
   "codemirror_mode": {
    "name": "ipython",
    "version": 3
   },
   "file_extension": ".py",
   "mimetype": "text/x-python",
   "name": "python",
   "nbconvert_exporter": "python",
   "pygments_lexer": "ipython3",
   "version": "3.10.15"
  }
 },
 "nbformat": 4,
 "nbformat_minor": 2
}
