{
 "cells": [
  {
   "cell_type": "markdown",
   "metadata": {},
   "source": [
    "# Examples of use for the football module"
   ]
  },
  {
   "cell_type": "markdown",
   "metadata": {},
   "source": [
    "### Read in the super long data set\n",
    "import kagglehub\n",
    "\n",
    "### Download latest version\n",
    "path = kagglehub.dataset_download(\"maxhorowitz/nflplaybyplay2009to2016\")\n",
    "\n",
    "print(\"Path to dataset files:\", path)"
   ]
  },
  {
   "cell_type": "code",
   "execution_count": 8,
   "metadata": {},
   "outputs": [],
   "source": [
    "from football.data_loader import DataLoader\n",
    "\n",
    "path = \"/Users/henryfetzer/.cache/kagglehub/datasets/maxhorowitz/nflplaybyplay2009to2016/versions/6\""
   ]
  },
  {
   "cell_type": "code",
   "execution_count": 9,
   "metadata": {},
   "outputs": [],
   "source": [
    "dl = DataLoader(path)\n"
   ]
  },
  {
   "cell_type": "code",
   "execution_count": 10,
   "metadata": {},
   "outputs": [
    {
     "name": "stdout",
     "output_type": "stream",
     "text": [
      "[2009, 2010, 2011, 2012, 2013, 2014, 2015, 2016]\n"
     ]
    }
   ],
   "source": [
    "# index a dataloader to get a season\n",
    "print(dl)\n",
    "season = dl[-2]"
   ]
  },
  {
   "cell_type": "code",
   "execution_count": 11,
   "metadata": {},
   "outputs": [],
   "source": [
    "# index season to get a game\n",
    "game = season[6]\n",
    "game.clean()"
   ]
  },
  {
   "cell_type": "code",
   "execution_count": 12,
   "metadata": {},
   "outputs": [
    {
     "name": "stdout",
     "output_type": "stream",
     "text": [
      "Index(['Date', 'GameID', 'Drive', 'qtr', 'down', 'time', 'TimeUnder',\n",
      "       'TimeSecs', 'PlayTimeDiff', 'SideofField',\n",
      "       ...\n",
      "       'Away_WP_pre', 'Home_WP_post', 'Away_WP_post', 'Win_Prob', 'WPA',\n",
      "       'airWPA', 'yacWPA', 'Season', 'play_time', 'team0_yards'],\n",
      "      dtype='object', length=104)\n"
     ]
    }
   ],
   "source": [
    "# get cleaned game dataframe\n",
    "df = game.train_test_split(home_team=True)\n",
    "print(df[0].columns)"
   ]
  },
  {
   "cell_type": "code",
   "execution_count": 21,
   "metadata": {},
   "outputs": [
    {
     "name": "stderr",
     "output_type": "stream",
     "text": [
      "Model is not converging.  Current: -315.12735611398784 is not greater than -315.1091937963605. Delta is -0.018162317627343327\n"
     ]
    },
    {
     "name": "stdout",
     "output_type": "stream",
     "text": [
      "Obs shape in previous_plays (45, 2)\n",
      "Obs shape in previous_plays (43, 2)\n",
      "[4.0, -1.0, 2.0, 2.0, 1.0, -1.0, 2.0, 0.0, 3.0, -1.0, 1.0, 3.0, 1.0, 1.0, 0.0, 0.0, 1.0, -1.0, 2.0, 2.0, 1.0, 2.0, -1.0, 3.0, 2.0, 1.0, 1.0]\n",
      "\n",
      "[6.0, 68.0, 9.0, 3.0, 29.0, 20.0, 70.0, 34.0, 6.0, 11.0, 74.0, 78.0, -3.0, 1.0, 73.0, 58.0, 8.0, 13.0, 39.0, 19.0, 44.0, 19.0, 72.0, 41.0, 41.0, 52.0, 63.0]\n",
      "Length of list:  27 27\n",
      "possession potential shape:  (2, 27)\n",
      "Length of list:  27\n",
      "[[ 4. -1.  2.  2.  1. -1.  2.  0.  3. -1.  1.  3.  1.  1.  0.  0.  1. -1.\n",
      "   2.  2.  1.  2. -1.  3.  2.  1.  1.]\n",
      " [ 6. 68.  9.  3. 29. 20. 70. 34.  6. 11. 74. 78. -3.  1. 73. 58.  8. 13.\n",
      "  39. 19. 44. 19. 72. 41. 41. 52. 63.]]\n",
      "      0     1\n",
      "0   4.0   6.0\n",
      "1  -1.0  68.0\n",
      "2   2.0   9.0\n",
      "3   2.0   3.0\n",
      "4   1.0  29.0\n",
      "5  -1.0  20.0\n",
      "6   2.0  70.0\n",
      "7   0.0  34.0\n",
      "8   3.0   6.0\n",
      "9  -1.0  11.0\n",
      "10  1.0  74.0\n",
      "11  3.0  78.0\n",
      "12  1.0  -3.0\n",
      "13  1.0   1.0\n",
      "14  0.0  73.0\n",
      "15  0.0  58.0\n",
      "16  1.0   8.0\n",
      "17 -1.0  13.0\n",
      "18  2.0  39.0\n",
      "19  2.0  19.0\n",
      "20  1.0  44.0\n",
      "21  2.0  19.0\n",
      "22 -1.0  72.0\n",
      "23  3.0  41.0\n",
      "24  2.0  41.0\n",
      "25  1.0  52.0\n",
      "26  1.0  63.0\n"
     ]
    }
   ],
   "source": [
    "# predict 2nd half of game\n",
    "possessions = game.predict_2nd_half(n_hidden_states = 3)\n",
    "print(possessions)"
   ]
  }
 ],
 "metadata": {
  "kernelspec": {
   "display_name": "Python 3",
   "language": "python",
   "name": "python3"
  },
  "language_info": {
   "codemirror_mode": {
    "name": "ipython",
    "version": 3
   },
   "file_extension": ".py",
   "mimetype": "text/x-python",
   "name": "python",
   "nbconvert_exporter": "python",
   "pygments_lexer": "ipython3",
   "version": "3.10.15"
  }
 },
 "nbformat": 4,
 "nbformat_minor": 2
}
