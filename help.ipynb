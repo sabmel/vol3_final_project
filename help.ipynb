{
 "cells": [
  {
   "cell_type": "markdown",
   "metadata": {},
   "source": [
    "# Examples of use for the football module"
   ]
  },
  {
   "cell_type": "markdown",
   "metadata": {},
   "source": [
    "### Read in the super long data set\n",
    "import kagglehub\n",
    "\n",
    "### Download latest version\n",
    "path = kagglehub.dataset_download(\"maxhorowitz/nflplaybyplay2009to2016\")\n",
    "\n",
    "print(\"Path to dataset files:\", path)"
   ]
  },
  {
   "cell_type": "code",
   "execution_count": 1,
   "metadata": {},
   "outputs": [],
   "source": [
    "from football.data_loader import DataLoader\n",
    "\n",
    "path = \"/Users/henryfetzer/.cache/kagglehub/datasets/maxhorowitz/nflplaybyplay2009to2016/versions/6\""
   ]
  },
  {
   "cell_type": "code",
   "execution_count": 2,
   "metadata": {},
   "outputs": [],
   "source": [
    "dl = DataLoader(path)\n"
   ]
  },
  {
   "cell_type": "code",
   "execution_count": 3,
   "metadata": {},
   "outputs": [
    {
     "name": "stdout",
     "output_type": "stream",
     "text": [
      "[2009, 2010, 2011, 2012, 2013, 2014, 2015, 2016]\n"
     ]
    }
   ],
   "source": [
    "# index a dataloader to get a season\n",
    "print(dl)\n",
    "season = dl[-2]"
   ]
  },
  {
   "cell_type": "code",
   "execution_count": 4,
   "metadata": {},
   "outputs": [],
   "source": [
    "# index season to get a game\n",
    "game = season[6]\n",
    "game.clean()"
   ]
  },
  {
   "cell_type": "code",
   "execution_count": 5,
   "metadata": {},
   "outputs": [],
   "source": [
    "# get cleaned game dataframe\n",
    "train, test = game.train_test_split(home_team=True)\n",
    "\n"
   ]
  },
  {
   "cell_type": "code",
   "execution_count": 6,
   "metadata": {},
   "outputs": [
    {
     "name": "stderr",
     "output_type": "stream",
     "text": [
      "Model is not converging.  Current: -266.0828105541658 is not greater than -256.5099325299988. Delta is -9.572878024166982\n",
      "Model is not converging.  Current: -275.3312868635474 is not greater than -262.80934342312923. Delta is -12.52194344041817\n",
      "Model is not converging.  Current: -268.866554103141 is not greater than -256.16157267097503. Delta is -12.704981432165994\n",
      "Model is not converging.  Current: -243.97152763490337 is not greater than -243.0710152595517. Delta is -0.9005123753516671\n",
      "Model is not converging.  Current: -264.10604225271777 is not greater than -261.8097333575957. Delta is -2.296308895122081\n"
     ]
    },
    {
     "name": "stdout",
     "output_type": "stream",
     "text": [
      "     away_yards  home_yards  play_time  time_remaining\n",
      "0           2.0         0.0   4.974911     1800.000000\n",
      "1           2.0         0.0   4.974911     1795.025089\n",
      "2           2.0         0.0   4.974911     1790.050178\n",
      "3           2.0         0.0   4.974911     1785.075267\n",
      "4           0.0         8.0   5.031480     1780.100356\n",
      "..          ...         ...        ...             ...\n",
      "355         0.0         8.0   5.031480       20.160264\n",
      "356         0.0         8.0   5.031480       15.128784\n",
      "357         0.0         8.0   5.031480       10.097304\n",
      "358         0.0         8.0   5.031480        5.065823\n",
      "359         0.0         8.0   5.031480        0.034343\n",
      "\n",
      "[360 rows x 4 columns]\n"
     ]
    }
   ],
   "source": [
    "# predict 2nd half of game\n",
    "possessions = game.predict_2nd_half(n_hidden_states = 5)\n",
    "print(possessions)"
   ]
  }
 ],
 "metadata": {
  "kernelspec": {
   "display_name": "Python 3",
   "language": "python",
   "name": "python3"
  },
  "language_info": {
   "codemirror_mode": {
    "name": "ipython",
    "version": 3
   },
   "file_extension": ".py",
   "mimetype": "text/x-python",
   "name": "python",
   "nbconvert_exporter": "python",
   "pygments_lexer": "ipython3",
   "version": "3.10.15"
  }
 },
 "nbformat": 4,
 "nbformat_minor": 2
}
