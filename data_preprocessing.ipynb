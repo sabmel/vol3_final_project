{
 "cells": [
  {
   "cell_type": "code",
   "execution_count": 17,
   "metadata": {},
   "outputs": [],
   "source": [
    "import os\n",
    "import pandas as pd\n",
    "import numpy as np\n",
    "from sklearn.model_selection import train_test_split"
   ]
  },
  {
   "cell_type": "markdown",
   "metadata": {},
   "source": [
    "Data Collection: Load the Dataset"
   ]
  },
  {
   "cell_type": "code",
   "execution_count": 27,
   "metadata": {},
   "outputs": [
    {
     "name": "stdout",
     "output_type": "stream",
     "text": [
      "DataFrame shape: (46129, 66)\n",
      "Columns: ['Unnamed: 0', 'Date', 'GameID', 'Drive', 'qtr', 'down', 'time', 'TimeUnder', 'TimeSecs', 'PlayTimeDiff', 'SideofField', 'yrdln', 'yrdline100', 'ydstogo', 'ydsnet', 'GoalToGo', 'FirstDown', 'posteam', 'DefensiveTeam', 'desc', 'PlayAttempted', 'Yards.Gained', 'sp', 'Touchdown', 'ExPointResult', 'TwoPointConv', 'DefTwoPoint', 'Safety', 'PuntResult', 'PlayType', 'Passer', 'PassAttempt', 'PassOutcome', 'PassLength', 'PassLocation', 'InterceptionThrown', 'Interceptor', 'Rusher', 'RushAttempt', 'RunLocation', 'RunGap', 'Receiver', 'Reception', 'ReturnResult', 'Returner', 'BlockingPlayer', 'Tackler1', 'Tackler2', 'FieldGoalResult', 'FieldGoalDistance', 'Fumble', 'RecFumbTeam', 'RecFumbPlayer', 'Sack', 'Challenge.Replay', 'ChalReplayResult', 'Accepted.Penalty', 'PenalizedTeam', 'PenaltyType', 'PenalizedPlayer', 'Penalty.Yards', 'PosTeamScore', 'DefTeamScore', 'ScoreDiff', 'AbsScoreDiff', 'Season']\n",
      "   Unnamed: 0        Date      GameID  Drive  qtr  down   time  TimeUnder  \\\n",
      "0          36  2015-09-10  2015091000      1    1   NaN  15:00         15   \n",
      "1          51  2015-09-10  2015091000      1    1   1.0  15:00         15   \n",
      "2          72  2015-09-10  2015091000      1    1   1.0  14:21         15   \n",
      "3         101  2015-09-10  2015091000      1    1   2.0  14:04         15   \n",
      "4         122  2015-09-10  2015091000      1    1   1.0  13:26         14   \n",
      "\n",
      "   TimeSecs  PlayTimeDiff  ... Accepted.Penalty  PenalizedTeam  PenaltyType  \\\n",
      "0    3600.0           0.0  ...                0            NaN          NaN   \n",
      "1    3600.0           0.0  ...                0            NaN          NaN   \n",
      "2    3561.0          39.0  ...                0            NaN          NaN   \n",
      "3    3544.0          17.0  ...                0            NaN          NaN   \n",
      "4    3506.0          38.0  ...                0            NaN          NaN   \n",
      "\n",
      "   PenalizedPlayer  Penalty.Yards  PosTeamScore  DefTeamScore ScoreDiff  \\\n",
      "0              NaN              0           0.0           0.0       0.0   \n",
      "1              NaN              0           0.0           0.0       0.0   \n",
      "2              NaN              0           0.0           0.0       0.0   \n",
      "3              NaN              0           0.0           0.0       0.0   \n",
      "4              NaN              0           0.0           0.0       0.0   \n",
      "\n",
      "  AbsScoreDiff Season  \n",
      "0          0.0   2015  \n",
      "1          0.0   2015  \n",
      "2          0.0   2015  \n",
      "3          0.0   2015  \n",
      "4          0.0   2015  \n",
      "\n",
      "[5 rows x 66 columns]\n"
     ]
    },
    {
     "name": "stderr",
     "output_type": "stream",
     "text": [
      "/tmp/ipykernel_5968/3300742793.py:1: DtypeWarning: Columns (26) have mixed types. Specify dtype option on import or set low_memory=False.\n",
      "  df = pd.read_csv('NFLPlaybyPlay2015.csv')\n"
     ]
    }
   ],
   "source": [
    "df = pd.read_csv('NFLPlaybyPlay2015.csv')\n",
    "print(\"DataFrame shape:\", df.shape)\n",
    "print(\"Columns:\", df.columns.tolist())\n",
    "print(df.head())"
   ]
  },
  {
   "cell_type": "markdown",
   "metadata": {},
   "source": [
    "Data Cleaning: Missing Values and Inconsistencies"
   ]
  },
  {
   "cell_type": "markdown",
   "metadata": {},
   "source": [
    "Key columns:\n",
    "1. Yards.Gained: Yards gained by team CURRENTLY in offensive possession\n",
    "2. Time (or TimeSecs): Time remaining on clock (ex 14:21). Alterntively TimeSecs is seconds remaining (ex 3561)\n",
    "3. PosTeamScore: Score of team CURRENTLY in offensive possession\n",
    "4. DefTeamScore: Score of team CURRENTLY in defense\n",
    "5. posteam: Team currently in offensive possession\n",
    "6. DefensiveTeam: Team currently on defense \n",
    "7. GameID: Indicates which game"
   ]
  },
  {
   "cell_type": "code",
   "execution_count": 28,
   "metadata": {},
   "outputs": [
    {
     "name": "stdout",
     "output_type": "stream",
     "text": [
      "Missing values in key columns:\n",
      " Yards.Gained        0\n",
      "TimeSecs           27\n",
      "PosTeamScore     3251\n",
      "DefTeamScore     3251\n",
      "posteam          3251\n",
      "DefensiveTeam    3251\n",
      "GameID              0\n",
      "dtype: int64\n"
     ]
    }
   ],
   "source": [
    "# Define key columns for the analysis\n",
    "key_columns = ['Yards.Gained', 'TimeSecs', 'PosTeamScore', 'DefTeamScore', 'posteam', 'DefensiveTeam', 'GameID']\n",
    "\n",
    "# Check for missing values in these key columns\n",
    "missing_values = df[key_columns].isnull().sum()\n",
    "print(\"Missing values in key columns:\\n\", missing_values)"
   ]
  },
  {
   "cell_type": "code",
   "execution_count": 29,
   "metadata": {},
   "outputs": [
    {
     "name": "stdout",
     "output_type": "stream",
     "text": [
      "Shape after dropping rows with missing 'TimeSecs', 'PosTeamScore', or 'DefTeamScore': (42878, 66)\n"
     ]
    }
   ],
   "source": [
    "# Drop rows with missing values in the key columns\n",
    "df_clean = df.dropna(subset=['TimeSecs', 'PosTeamScore', 'DefTeamScore'])\n",
    "print(\"Shape after dropping rows with missing 'TimeSecs', 'PosTeamScore', or 'DefTeamScore':\", df_clean.shape)"
   ]
  },
  {
   "cell_type": "code",
   "execution_count": 30,
   "metadata": {},
   "outputs": [
    {
     "name": "stdout",
     "output_type": "stream",
     "text": [
      "\n",
      "Missing values in key columns after cleaning:\n",
      " Yards.Gained     0\n",
      "TimeSecs         0\n",
      "PosTeamScore     0\n",
      "DefTeamScore     0\n",
      "posteam          0\n",
      "DefensiveTeam    0\n",
      "GameID           0\n",
      "dtype: int64\n"
     ]
    }
   ],
   "source": [
    "# Verify missing values after cleaning\n",
    "missing_after = df_clean[key_columns].isnull().sum()\n",
    "print(\"\\nMissing values in key columns after cleaning:\\n\", missing_after)"
   ]
  },
  {
   "cell_type": "code",
   "execution_count": 31,
   "metadata": {},
   "outputs": [
    {
     "name": "stdout",
     "output_type": "stream",
     "text": [
      "Shape after filtering unrealistic yardage values: (42878, 66)\n"
     ]
    }
   ],
   "source": [
    "# Remove rows with unrealistic yardage gains\n",
    "df_clean = df_clean[(df_clean['Yards.Gained'] >= -100) & (df_clean['Yards.Gained'] <= 100)]\n",
    "print(\"Shape after filtering unrealistic yardage values:\", df_clean.shape)"
   ]
  },
  {
   "cell_type": "markdown",
   "metadata": {},
   "source": [
    "Train-Test Split"
   ]
  },
  {
   "cell_type": "code",
   "execution_count": null,
   "metadata": {},
   "outputs": [],
   "source": [
    "# Since we're working with sequential data (each game is a sequence), plan a split on the game level to avoid data leakage"
   ]
  }
 ],
 "metadata": {
  "kernelspec": {
   "display_name": ".venv",
   "language": "python",
   "name": "python3"
  },
  "language_info": {
   "codemirror_mode": {
    "name": "ipython",
    "version": 3
   },
   "file_extension": ".py",
   "mimetype": "text/x-python",
   "name": "python",
   "nbconvert_exporter": "python",
   "pygments_lexer": "ipython3",
   "version": "3.10.12"
  }
 },
 "nbformat": 4,
 "nbformat_minor": 2
}
